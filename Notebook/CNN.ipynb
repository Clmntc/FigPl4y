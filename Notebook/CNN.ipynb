{
 "cells": [
  {
   "cell_type": "code",
   "execution_count": 494,
   "id": "c97961b6",
   "metadata": {},
   "outputs": [],
   "source": [
    "import tensorflow as tf\n",
    "from tensorflow import keras\n",
    "from tensorflow.keras.models import Sequential\n",
    "from tensorflow.keras.layers import Dense, Activation, Flatten\n",
    "from tensorflow.keras.layers import Conv2D, MaxPooling2D\n",
    "import matplotlib.pyplot as plt\n",
    "import numpy as np\n",
    "import pandas as pd\n",
    "from sklearn.model_selection import train_test_split\n",
    "from tensorflow import keras\n",
    "from tensorflow.keras import layers,callbacks\n",
    "from keras.models import Sequential\n",
    "from keras.layers import Dense\n",
    "import seaborn as sns\n",
    "from sklearn.metrics import classification_report, confusion_matrix,ConfusionMatrixDisplay"
   ]
  },
  {
   "cell_type": "code",
   "execution_count": 495,
   "id": "3f6a9c51",
   "metadata": {},
   "outputs": [],
   "source": [
    "train=pd.read_csv(\"C:/Users/SIMPLON/Desktop/CNN/train.csv\")\n",
    "test= pd.read_csv(\"C:/Users/SIMPLON/Desktop/CNN/test.csv\")"
   ]
  },
  {
   "cell_type": "code",
   "execution_count": 496,
   "id": "7e1ec1e2",
   "metadata": {},
   "outputs": [
    {
     "data": {
      "text/html": [
       "<div><div id=23f2e2e1-a398-40b9-a851-1d1633508fed style=\"display:none; background-color:#9D6CFF; color:white; width:200px; height:30px; padding-left:5px; border-radius:4px; flex-direction:row; justify-content:space-around; align-items:center;\" onmouseover=\"this.style.backgroundColor='#BA9BF8'\" onmouseout=\"this.style.backgroundColor='#9D6CFF'\" onclick=\"window.commands?.execute('create-mitosheet-from-dataframe-output');\">See Full Dataframe in Mito</div> <script> if (window.commands.hasCommand('create-mitosheet-from-dataframe-output')) document.getElementById('23f2e2e1-a398-40b9-a851-1d1633508fed').style.display = 'flex' </script> <table border=\"1\" class=\"dataframe\">\n",
       "  <thead>\n",
       "    <tr style=\"text-align: right;\">\n",
       "      <th></th>\n",
       "      <th>label</th>\n",
       "      <th>pixel0</th>\n",
       "      <th>pixel1</th>\n",
       "      <th>pixel2</th>\n",
       "      <th>pixel3</th>\n",
       "      <th>pixel4</th>\n",
       "      <th>pixel5</th>\n",
       "      <th>pixel6</th>\n",
       "      <th>pixel7</th>\n",
       "      <th>pixel8</th>\n",
       "      <th>...</th>\n",
       "      <th>pixel774</th>\n",
       "      <th>pixel775</th>\n",
       "      <th>pixel776</th>\n",
       "      <th>pixel777</th>\n",
       "      <th>pixel778</th>\n",
       "      <th>pixel779</th>\n",
       "      <th>pixel780</th>\n",
       "      <th>pixel781</th>\n",
       "      <th>pixel782</th>\n",
       "      <th>pixel783</th>\n",
       "    </tr>\n",
       "  </thead>\n",
       "  <tbody>\n",
       "    <tr>\n",
       "      <th>0</th>\n",
       "      <td>1</td>\n",
       "      <td>0</td>\n",
       "      <td>0</td>\n",
       "      <td>0</td>\n",
       "      <td>0</td>\n",
       "      <td>0</td>\n",
       "      <td>0</td>\n",
       "      <td>0</td>\n",
       "      <td>0</td>\n",
       "      <td>0</td>\n",
       "      <td>...</td>\n",
       "      <td>0</td>\n",
       "      <td>0</td>\n",
       "      <td>0</td>\n",
       "      <td>0</td>\n",
       "      <td>0</td>\n",
       "      <td>0</td>\n",
       "      <td>0</td>\n",
       "      <td>0</td>\n",
       "      <td>0</td>\n",
       "      <td>0</td>\n",
       "    </tr>\n",
       "    <tr>\n",
       "      <th>1</th>\n",
       "      <td>0</td>\n",
       "      <td>0</td>\n",
       "      <td>0</td>\n",
       "      <td>0</td>\n",
       "      <td>0</td>\n",
       "      <td>0</td>\n",
       "      <td>0</td>\n",
       "      <td>0</td>\n",
       "      <td>0</td>\n",
       "      <td>0</td>\n",
       "      <td>...</td>\n",
       "      <td>0</td>\n",
       "      <td>0</td>\n",
       "      <td>0</td>\n",
       "      <td>0</td>\n",
       "      <td>0</td>\n",
       "      <td>0</td>\n",
       "      <td>0</td>\n",
       "      <td>0</td>\n",
       "      <td>0</td>\n",
       "      <td>0</td>\n",
       "    </tr>\n",
       "    <tr>\n",
       "      <th>2</th>\n",
       "      <td>1</td>\n",
       "      <td>0</td>\n",
       "      <td>0</td>\n",
       "      <td>0</td>\n",
       "      <td>0</td>\n",
       "      <td>0</td>\n",
       "      <td>0</td>\n",
       "      <td>0</td>\n",
       "      <td>0</td>\n",
       "      <td>0</td>\n",
       "      <td>...</td>\n",
       "      <td>0</td>\n",
       "      <td>0</td>\n",
       "      <td>0</td>\n",
       "      <td>0</td>\n",
       "      <td>0</td>\n",
       "      <td>0</td>\n",
       "      <td>0</td>\n",
       "      <td>0</td>\n",
       "      <td>0</td>\n",
       "      <td>0</td>\n",
       "    </tr>\n",
       "    <tr>\n",
       "      <th>3</th>\n",
       "      <td>4</td>\n",
       "      <td>0</td>\n",
       "      <td>0</td>\n",
       "      <td>0</td>\n",
       "      <td>0</td>\n",
       "      <td>0</td>\n",
       "      <td>0</td>\n",
       "      <td>0</td>\n",
       "      <td>0</td>\n",
       "      <td>0</td>\n",
       "      <td>...</td>\n",
       "      <td>0</td>\n",
       "      <td>0</td>\n",
       "      <td>0</td>\n",
       "      <td>0</td>\n",
       "      <td>0</td>\n",
       "      <td>0</td>\n",
       "      <td>0</td>\n",
       "      <td>0</td>\n",
       "      <td>0</td>\n",
       "      <td>0</td>\n",
       "    </tr>\n",
       "    <tr>\n",
       "      <th>4</th>\n",
       "      <td>0</td>\n",
       "      <td>0</td>\n",
       "      <td>0</td>\n",
       "      <td>0</td>\n",
       "      <td>0</td>\n",
       "      <td>0</td>\n",
       "      <td>0</td>\n",
       "      <td>0</td>\n",
       "      <td>0</td>\n",
       "      <td>0</td>\n",
       "      <td>...</td>\n",
       "      <td>0</td>\n",
       "      <td>0</td>\n",
       "      <td>0</td>\n",
       "      <td>0</td>\n",
       "      <td>0</td>\n",
       "      <td>0</td>\n",
       "      <td>0</td>\n",
       "      <td>0</td>\n",
       "      <td>0</td>\n",
       "      <td>0</td>\n",
       "    </tr>\n",
       "  </tbody>\n",
       "</table></div>"
      ],
      "text/plain": [
       "   label  pixel0  pixel1  pixel2  pixel3  pixel4  pixel5  pixel6  pixel7  \\\n",
       "0      1       0       0       0       0       0       0       0       0   \n",
       "1      0       0       0       0       0       0       0       0       0   \n",
       "2      1       0       0       0       0       0       0       0       0   \n",
       "3      4       0       0       0       0       0       0       0       0   \n",
       "4      0       0       0       0       0       0       0       0       0   \n",
       "\n",
       "   pixel8  ...  pixel774  pixel775  pixel776  pixel777  pixel778  pixel779  \\\n",
       "0       0  ...         0         0         0         0         0         0   \n",
       "1       0  ...         0         0         0         0         0         0   \n",
       "2       0  ...         0         0         0         0         0         0   \n",
       "3       0  ...         0         0         0         0         0         0   \n",
       "4       0  ...         0         0         0         0         0         0   \n",
       "\n",
       "   pixel780  pixel781  pixel782  pixel783  \n",
       "0         0         0         0         0  \n",
       "1         0         0         0         0  \n",
       "2         0         0         0         0  \n",
       "3         0         0         0         0  \n",
       "4         0         0         0         0  \n",
       "\n",
       "[5 rows x 785 columns]"
      ]
     },
     "execution_count": 496,
     "metadata": {},
     "output_type": "execute_result"
    }
   ],
   "source": [
    "train.head()"
   ]
  },
  {
   "cell_type": "code",
   "execution_count": 497,
   "id": "c43c4c07",
   "metadata": {},
   "outputs": [
    {
     "data": {
      "text/plain": [
       "0"
      ]
     },
     "execution_count": 497,
     "metadata": {},
     "output_type": "execute_result"
    }
   ],
   "source": [
    "train['pixel1'].max()"
   ]
  },
  {
   "cell_type": "code",
   "execution_count": 498,
   "id": "853cc888",
   "metadata": {},
   "outputs": [
    {
     "data": {
      "text/plain": [
       "(42000, 785)"
      ]
     },
     "execution_count": 498,
     "metadata": {},
     "output_type": "execute_result"
    }
   ],
   "source": [
    "train.shape"
   ]
  },
  {
   "cell_type": "code",
   "execution_count": 499,
   "id": "d6379e6e",
   "metadata": {},
   "outputs": [
    {
     "name": "stdout",
     "output_type": "stream",
     "text": [
      "X (42000, 784)\n"
     ]
    }
   ],
   "source": [
    "X=train.drop('label',axis=1)\n",
    "y=train.label\n",
    "print(\"X\",X.shape)"
   ]
  },
  {
   "cell_type": "code",
   "execution_count": 500,
   "id": "0845946a",
   "metadata": {},
   "outputs": [
    {
     "name": "stderr",
     "output_type": "stream",
     "text": [
      "C:\\Users\\SIMPLON\\Anaconda3\\lib\\site-packages\\seaborn\\_decorators.py:36: FutureWarning: Pass the following variable as a keyword arg: x. From version 0.12, the only valid positional argument will be `data`, and passing other arguments without an explicit keyword will result in an error or misinterpretation.\n",
      "  warnings.warn(\n"
     ]
    },
    {
     "data": {
      "image/png": "[encoded data removed]",
      "text/plain": [
       "<Figure size 432x288 with 1 Axes>"
      ]
     },
     "metadata": {
      "needs_background": "light"
     },
     "output_type": "display_data"
    }
   ],
   "source": [
    "g = sns.countplot(y)\n"
   ]
  },
  {
   "cell_type": "code",
   "execution_count": 501,
   "id": "2f78d405",
   "metadata": {},
   "outputs": [],
   "source": [
    "X_train, X_val, y_train, y_val = train_test_split(X,y, test_size=0.3,random_state=2021,stratify=y)"
   ]
  },
  {
   "cell_type": "code",
   "execution_count": 502,
   "id": "902a86f3",
   "metadata": {},
   "outputs": [
    {
     "data": {
      "text/plain": [
       "(29400, 784)"
      ]
     },
     "execution_count": 502,
     "metadata": {},
     "output_type": "execute_result"
    }
   ],
   "source": [
    "X_train.shape"
   ]
  },
  {
   "cell_type": "code",
   "execution_count": 503,
   "id": "4241ab50",
   "metadata": {},
   "outputs": [
    {
     "data": {
      "text/plain": [
       "(12600,)"
      ]
     },
     "execution_count": 503,
     "metadata": {},
     "output_type": "execute_result"
    }
   ],
   "source": [
    "y_val.shape"
   ]
  },
  {
   "cell_type": "code",
   "execution_count": 504,
   "id": "11aa3134",
   "metadata": {},
   "outputs": [
    {
     "data": {
      "text/plain": [
       "1    3279\n",
       "7    3081\n",
       "3    3046\n",
       "9    2932\n",
       "2    2924\n",
       "6    2896\n",
       "0    2892\n",
       "4    2850\n",
       "8    2844\n",
       "5    2656\n",
       "Name: label, dtype: int64"
      ]
     },
     "execution_count": 504,
     "metadata": {},
     "output_type": "execute_result"
    }
   ],
   "source": [
    "y_train.value_counts()"
   ]
  },
  {
   "cell_type": "code",
   "execution_count": 505,
   "id": "e371f844",
   "metadata": {},
   "outputs": [],
   "source": [
    "X_train=X_train.values.reshape(-1,28,28,1)\n",
    "X_val=X_val.values.reshape(-1,28,28,1)\n"
   ]
  },
  {
   "cell_type": "code",
   "execution_count": 506,
   "id": "55ce9543",
   "metadata": {},
   "outputs": [
    {
     "name": "stdout",
     "output_type": "stream",
     "text": [
      "X_train (29400, 28, 28, 1)\n",
      "X_val (12600, 28, 28, 1)\n"
     ]
    }
   ],
   "source": [
    "print(\"X_train\",X_train.shape)\n",
    "print(\"X_val\",X_val.shape)"
   ]
  },
  {
   "cell_type": "markdown",
   "id": "1fb3dd0e",
   "metadata": {},
   "source": [
    "# Normalization"
   ]
  },
  {
   "cell_type": "code",
   "execution_count": 517,
   "id": "d6abc1da",
   "metadata": {},
   "outputs": [],
   "source": [
    "xmax=X_train.max()\n",
    "X_train=X_train/xmax\n",
    "X_val=X_val/xmax"
   ]
  },
  {
   "cell_type": "code",
   "execution_count": 518,
   "id": "ecceff1e",
   "metadata": {},
   "outputs": [],
   "source": [
    "\n",
    "model = Sequential()\n",
    "model.add(Conv2D(8, kernel_size=(3, 3),activation='relu',input_shape=(28,28,1),padding='same'))\n",
    "model.add(MaxPooling2D((2, 2)))\n",
    "model.add(layers.Dropout(0.2))\n",
    "\n",
    "model.add(Conv2D(16, (3, 3), activation='relu'))\n",
    "model.add(MaxPooling2D(pool_size=(2, 2)))\n",
    "model.add(layers.Dropout(0.2))\n",
    "\n",
    "model.add(Conv2D(100, (3, 3), activation='relu'))                \n",
    "model.add(MaxPooling2D(pool_size=(2, 2)))\n",
    "model.add(layers.Dropout(0.5))\n",
    "\n",
    "model.add(Flatten())\n",
    "model.add(Dense(100, activation='relu'))\n",
    "model.add(layers.Dropout(0.5))\n",
    "\n",
    "model.add(Dense(10, activation='softmax'))"
   ]
  },
  {
   "cell_type": "code",
   "execution_count": 519,
   "id": "0f76e587",
   "metadata": {},
   "outputs": [],
   "source": [
    "\n",
    "model = Sequential()\n",
    "model.add(Conv2D(8, kernel_size=(3, 3),activation='relu',input_shape=(28,28,1),padding='same'))\n",
    "model.add(MaxPooling2D((2, 2)))\n",
    "model.add(layers.Dropout(0.2))\n",
    "\n",
    "model.add(Conv2D(16, (3, 3), activation='relu'))\n",
    "model.add(MaxPooling2D(pool_size=(2, 2)))\n",
    "model.add(layers.Dropout(0.2))\n",
    "\n",
    "\n",
    "model.add(Flatten())\n",
    "model.add(Dense(100, activation='relu'))                \n",
    "model.add(Dense(10, activation='softmax'))"
   ]
  },
  {
   "cell_type": "code",
   "execution_count": 520,
   "id": "31b0ab1d",
   "metadata": {},
   "outputs": [
    {
     "name": "stdout",
     "output_type": "stream",
     "text": [
      "Model: \"sequential_5\"\n",
      "_________________________________________________________________\n",
      " Layer (type)                Output Shape              Param #   \n",
      "=================================================================\n",
      " conv2d_13 (Conv2D)          (None, 28, 28, 8)         80        \n",
      "                                                                 \n",
      " max_pooling2d_13 (MaxPoolin  (None, 14, 14, 8)        0         \n",
      " g2D)                                                            \n",
      "                                                                 \n",
      " dropout_15 (Dropout)        (None, 14, 14, 8)         0         \n",
      "                                                                 \n",
      " conv2d_14 (Conv2D)          (None, 12, 12, 16)        1168      \n",
      "                                                                 \n",
      " max_pooling2d_14 (MaxPoolin  (None, 6, 6, 16)         0         \n",
      " g2D)                                                            \n",
      "                                                                 \n",
      " dropout_16 (Dropout)        (None, 6, 6, 16)          0         \n",
      "                                                                 \n",
      " flatten_5 (Flatten)         (None, 576)               0         \n",
      "                                                                 \n",
      " dense_10 (Dense)            (None, 100)               57700     \n",
      "                                                                 \n",
      " dense_11 (Dense)            (None, 10)                1010      \n",
      "                                                                 \n",
      "=================================================================\n",
      "Total params: 59,958\n",
      "Trainable params: 59,958\n",
      "Non-trainable params: 0\n",
      "_________________________________________________________________\n"
     ]
    }
   ],
   "source": [
    "model.summary()"
   ]
  },
  {
   "attachments": {
    "image.png": {
     "image/png": "[encoded data removed]"
    }
   },
   "cell_type": "markdown",
   "id": "cb7cac73",
   "metadata": {},
   "source": [
    "![image.png](attachment:image.png)\n"
   ]
  },
  {
   "cell_type": "code",
   "execution_count": 521,
   "id": "0d254a88",
   "metadata": {},
   "outputs": [],
   "source": [
    "model.compile(\n",
    "    optimizer='adam',\n",
    "    loss='sparse_categorical_crossentropy',\n",
    "    metrics=[\"accuracy\"]\n",
    ")"
   ]
  },
  {
   "cell_type": "code",
   "execution_count": 522,
   "id": "77582688",
   "metadata": {},
   "outputs": [
    {
     "name": "stdout",
     "output_type": "stream",
     "text": [
      "Epoch 1/32\n",
      "460/460 [==============================] - 15s 31ms/step - loss: 0.4908 - accuracy: 0.8460 - val_loss: 0.1647 - val_accuracy: 0.9528\n",
      "Epoch 2/32\n",
      "460/460 [==============================] - 15s 32ms/step - loss: 0.1693 - accuracy: 0.9472 - val_loss: 0.1081 - val_accuracy: 0.9705\n",
      "Epoch 3/32\n",
      "460/460 [==============================] - 15s 33ms/step - loss: 0.1201 - accuracy: 0.9622 - val_loss: 0.0905 - val_accuracy: 0.9733\n",
      "Epoch 4/32\n",
      "460/460 [==============================] - 14s 30ms/step - loss: 0.1015 - accuracy: 0.9675 - val_loss: 0.0731 - val_accuracy: 0.9790\n",
      "Epoch 5/32\n",
      "460/460 [==============================] - 14s 29ms/step - loss: 0.0854 - accuracy: 0.9724 - val_loss: 0.0662 - val_accuracy: 0.9790\n",
      "Epoch 6/32\n",
      "460/460 [==============================] - 14s 30ms/step - loss: 0.0741 - accuracy: 0.9756 - val_loss: 0.0633 - val_accuracy: 0.9815\n",
      "Epoch 7/32\n",
      "460/460 [==============================] - 14s 30ms/step - loss: 0.0666 - accuracy: 0.9777 - val_loss: 0.0557 - val_accuracy: 0.9832\n",
      "Epoch 8/32\n",
      "460/460 [==============================] - 14s 31ms/step - loss: 0.0605 - accuracy: 0.9810 - val_loss: 0.0565 - val_accuracy: 0.9821\n",
      "Epoch 9/32\n",
      "460/460 [==============================] - 14s 31ms/step - loss: 0.0562 - accuracy: 0.9818 - val_loss: 0.0487 - val_accuracy: 0.9853\n",
      "Epoch 10/32\n",
      "460/460 [==============================] - 14s 31ms/step - loss: 0.0509 - accuracy: 0.9823 - val_loss: 0.0507 - val_accuracy: 0.9844\n",
      "Epoch 11/32\n",
      "460/460 [==============================] - 12s 26ms/step - loss: 0.0481 - accuracy: 0.9843 - val_loss: 0.0502 - val_accuracy: 0.9844\n",
      "Epoch 12/32\n",
      "460/460 [==============================] - 13s 28ms/step - loss: 0.0436 - accuracy: 0.9849 - val_loss: 0.0490 - val_accuracy: 0.9860\n",
      "Epoch 13/32\n",
      "460/460 [==============================] - 12s 26ms/step - loss: 0.0408 - accuracy: 0.9861 - val_loss: 0.0459 - val_accuracy: 0.9859\n",
      "Epoch 14/32\n",
      "460/460 [==============================] - 12s 26ms/step - loss: 0.0382 - accuracy: 0.9870 - val_loss: 0.0453 - val_accuracy: 0.9870\n",
      "Epoch 15/32\n",
      "460/460 [==============================] - 13s 28ms/step - loss: 0.0337 - accuracy: 0.9888 - val_loss: 0.0501 - val_accuracy: 0.9850\n",
      "Epoch 16/32\n",
      "460/460 [==============================] - 13s 28ms/step - loss: 0.0357 - accuracy: 0.9880 - val_loss: 0.0466 - val_accuracy: 0.9863\n",
      "Epoch 17/32\n",
      "460/460 [==============================] - 20s 44ms/step - loss: 0.0320 - accuracy: 0.9887 - val_loss: 0.0480 - val_accuracy: 0.9861\n",
      "Epoch 18/32\n",
      "460/460 [==============================] - 15s 32ms/step - loss: 0.0325 - accuracy: 0.9882 - val_loss: 0.0511 - val_accuracy: 0.9860\n",
      "Epoch 19/32\n",
      "460/460 [==============================] - 13s 28ms/step - loss: 0.0295 - accuracy: 0.9899 - val_loss: 0.0435 - val_accuracy: 0.9871\n",
      "Epoch 20/32\n",
      "460/460 [==============================] - 13s 28ms/step - loss: 0.0286 - accuracy: 0.9907 - val_loss: 0.0473 - val_accuracy: 0.9848\n",
      "Epoch 21/32\n",
      "460/460 [==============================] - 13s 28ms/step - loss: 0.0269 - accuracy: 0.9909 - val_loss: 0.0453 - val_accuracy: 0.9879\n",
      "Epoch 22/32\n",
      "460/460 [==============================] - 13s 28ms/step - loss: 0.0267 - accuracy: 0.9902 - val_loss: 0.0435 - val_accuracy: 0.9874\n",
      "Epoch 23/32\n",
      "460/460 [==============================] - 13s 28ms/step - loss: 0.0250 - accuracy: 0.9914 - val_loss: 0.0489 - val_accuracy: 0.9865\n",
      "Epoch 24/32\n",
      "460/460 [==============================] - 13s 28ms/step - loss: 0.0222 - accuracy: 0.9921 - val_loss: 0.0531 - val_accuracy: 0.9848\n",
      "Epoch 25/32\n",
      "460/460 [==============================] - 13s 28ms/step - loss: 0.0235 - accuracy: 0.9918 - val_loss: 0.0475 - val_accuracy: 0.9867\n",
      "Epoch 26/32\n",
      "460/460 [==============================] - 13s 28ms/step - loss: 0.0241 - accuracy: 0.9918 - val_loss: 0.0498 - val_accuracy: 0.9865\n",
      "Epoch 27/32\n",
      "460/460 [==============================] - 13s 29ms/step - loss: 0.0232 - accuracy: 0.9921 - val_loss: 0.0449 - val_accuracy: 0.9871\n",
      "Epoch 28/32\n",
      "460/460 [==============================] - 13s 29ms/step - loss: 0.0216 - accuracy: 0.9925 - val_loss: 0.0455 - val_accuracy: 0.9881\n",
      "Epoch 29/32\n",
      "460/460 [==============================] - 14s 31ms/step - loss: 0.0207 - accuracy: 0.9925 - val_loss: 0.0486 - val_accuracy: 0.9881\n",
      "Epoch 30/32\n",
      "460/460 [==============================] - 13s 29ms/step - loss: 0.0202 - accuracy: 0.9928 - val_loss: 0.0448 - val_accuracy: 0.9881\n",
      "Epoch 31/32\n",
      "460/460 [==============================] - 13s 29ms/step - loss: 0.0174 - accuracy: 0.9943 - val_loss: 0.0477 - val_accuracy: 0.9868\n",
      "Epoch 32/32\n",
      "460/460 [==============================] - 14s 30ms/step - loss: 0.0194 - accuracy: 0.9930 - val_loss: 0.0542 - val_accuracy: 0.9863\n"
     ]
    }
   ],
   "source": [
    "history = model.fit(\n",
    "    X_train, y_train,\n",
    "    validation_data=(X_val, y_val),\n",
    "    batch_size=64,\n",
    "    epochs=32,\n",
    "    verbose=1,  # turn off training log\n",
    ")"
   ]
  },
  {
   "cell_type": "code",
   "execution_count": 513,
   "id": "33f2adc8",
   "metadata": {},
   "outputs": [
    {
     "name": "stdout",
     "output_type": "stream",
     "text": [
      "Test loss :0.0521\n",
      "Test accuracy :0.0521\n"
     ]
    }
   ],
   "source": [
    "score=model.evaluate(X_val,y_val,verbose=0)\n",
    "print(f'Test loss :{score[0]:4.4f}')\n",
    "print(f'Test accuracy :{score[0]:4.4f}')"
   ]
  },
  {
   "cell_type": "code",
   "execution_count": 514,
   "id": "eaeae3c8",
   "metadata": {},
   "outputs": [
    {
     "name": "stdout",
     "output_type": "stream",
     "text": [
      "Test loss :0.0521\n",
      "Test accuracy :0.0521\n"
     ]
    }
   ],
   "source": [
    "score=model.evaluate(X_val,y_val,verbose=0)\n",
    "print(f'Test loss :{score[0]:4.4f}')\n",
    "print(f'Test accuracy :{score[0]:4.4f}')"
   ]
  },
  {
   "cell_type": "code",
   "execution_count": 515,
   "id": "0e6b9c17",
   "metadata": {},
   "outputs": [
    {
     "name": "stdout",
     "output_type": "stream",
     "text": [
      "accuracy 0.9862585067749023\n",
      "val accuracy 0.9857142567634583\n"
     ]
    }
   ],
   "source": [
    "print(\"accuracy\",history_df[\"accuracy\"].max())\n",
    "print(\"val accuracy\",history_df[\"val_accuracy\"].max())"
   ]
  },
  {
   "cell_type": "code",
   "execution_count": 516,
   "id": "9c87018e",
   "metadata": {},
   "outputs": [
    {
     "data": {
      "image/png": "[encoded data removed]",
      "text/plain": [
       "<Figure size 432x288 with 1 Axes>"
      ]
     },
     "metadata": {
      "needs_background": "light"
     },
     "output_type": "display_data"
    }
   ],
   "source": [
    "history_df = pd.DataFrame(history.history)\n",
    "history_df.loc[:, ['accuracy','val_accuracy']].plot();"
   ]
  },
  {
   "cell_type": "code",
   "execution_count": 466,
   "id": "7fc5175d",
   "metadata": {},
   "outputs": [
    {
     "data": {
      "image/png": "[encoded data removed]",
      "text/plain": [
       "<Figure size 432x288 with 1 Axes>"
      ]
     },
     "metadata": {
      "needs_background": "light"
     },
     "output_type": "display_data"
    }
   ],
   "source": [
    "history_df.loc[:, ['loss', 'val_loss']].plot();"
   ]
  },
  {
   "cell_type": "code",
   "execution_count": 467,
   "id": "444cf73c",
   "metadata": {},
   "outputs": [],
   "source": [
    "y_pred=model.predict(X_val)\n",
    "y_pred=np.argmax(y_pred,axis=-1)"
   ]
  },
  {
   "cell_type": "code",
   "execution_count": 29,
   "id": "535e2e33",
   "metadata": {},
   "outputs": [
    {
     "data": {
      "text/plain": [
       "array([5, 6, 8, ..., 6, 5, 8], dtype=int64)"
      ]
     },
     "execution_count": 29,
     "metadata": {},
     "output_type": "execute_result"
    }
   ],
   "source": [
    "y_pred"
   ]
  },
  {
   "cell_type": "code",
   "execution_count": 30,
   "id": "57966fbb",
   "metadata": {},
   "outputs": [],
   "source": [
    "def viz_num(num):\n",
    "    #Reshape the 768 values to a 28x28 image\n",
    "    image = X_val.values[num].reshape([28,28])\n",
    "    plt.title('Sample: %d  Label: %d' % (num, y_val[num]))\n",
    "    plt.imshow(image, cmap=plt.get_cmap('gray'))\n",
    "    plt.show()"
   ]
  },
  {
   "cell_type": "code",
   "execution_count": null,
   "id": "715a928b",
   "metadata": {},
   "outputs": [],
   "source": [
    "#fig,axes = plt.subplots(3,5,figsize=(10,8))\n",
    "#for i in  range(0,20):\n",
    "    #viz_num(i)"
   ]
  },
  {
   "cell_type": "code",
   "execution_count": 31,
   "id": "4f1db961",
   "metadata": {},
   "outputs": [
    {
     "data": {
      "text/plain": [
       "(12600, 28, 28, 1)"
      ]
     },
     "execution_count": 31,
     "metadata": {},
     "output_type": "execute_result"
    }
   ],
   "source": [
    "X_val.shape"
   ]
  },
  {
   "cell_type": "code",
   "execution_count": 468,
   "id": "0b8fa1f4",
   "metadata": {},
   "outputs": [
    {
     "data": {
      "image/png": "[encoded data removed]",
      "text/plain": [
       "<Figure size 720x576 with 15 Axes>"
      ]
     },
     "metadata": {
      "needs_background": "light"
     },
     "output_type": "display_data"
    }
   ],
   "source": [
    "import matplotlib.pyplot as plt \n",
    "fig,axes = plt.subplots(3,5,figsize=(10,8))\n",
    "for i,ax in enumerate(axes.flat):\n",
    "    ax.imshow(X_val[i])\n",
    "  \n",
    "   "
   ]
  },
  {
   "cell_type": "code",
   "execution_count": 469,
   "id": "a678b403",
   "metadata": {},
   "outputs": [
    {
     "data": {
      "text/plain": [
       "<sklearn.metrics._plot.confusion_matrix.ConfusionMatrixDisplay at 0x2289243fc70>"
      ]
     },
     "execution_count": 469,
     "metadata": {},
     "output_type": "execute_result"
    },
    {
     "data": {
      "image/png": "[encoded data removed]",
      "text/plain": [
       "<Figure size 432x288 with 2 Axes>"
      ]
     },
     "metadata": {
      "needs_background": "light"
     },
     "output_type": "display_data"
    }
   ],
   "source": [
    "cfm=confusion_matrix(y_val, y_pred)\n",
    "disp = ConfusionMatrixDisplay(confusion_matrix=cfm)\n",
    "disp.plot() "
   ]
  },
  {
   "cell_type": "code",
   "execution_count": 470,
   "id": "baa1cab5",
   "metadata": {},
   "outputs": [
    {
     "name": "stdout",
     "output_type": "stream",
     "text": [
      "              precision    recall  f1-score   support\n",
      "\n",
      "           0       0.99      1.00      0.99      1240\n",
      "           1       0.98      1.00      0.99      1405\n",
      "           2       0.99      0.99      0.99      1253\n",
      "           3       0.99      0.98      0.99      1305\n",
      "           4       0.99      0.99      0.99      1222\n",
      "           5       0.99      0.98      0.98      1139\n",
      "           6       0.99      0.99      0.99      1241\n",
      "           7       0.98      0.99      0.99      1320\n",
      "           8       0.98      0.97      0.98      1219\n",
      "           9       0.99      0.97      0.98      1256\n",
      "\n",
      "    accuracy                           0.99     12600\n",
      "   macro avg       0.99      0.99      0.99     12600\n",
      "weighted avg       0.99      0.99      0.99     12600\n",
      "\n"
     ]
    }
   ],
   "source": [
    "# Score\n",
    "from sklearn.metrics import classification_report, confusion_matrix\n",
    "from sklearn.metrics import accuracy_score, precision_score, recall_score, f1_score\n",
    "# score\n",
    "print(classification_report(y_val, y_pred))"
   ]
  },
  {
   "cell_type": "code",
   "execution_count": 34,
   "id": "8a8b607a",
   "metadata": {},
   "outputs": [
    {
     "name": "stdout",
     "output_type": "stream",
     "text": [
      "              precision    recall  f1-score   support\n",
      "\n",
      "           0       0.99      0.99      0.99      1240\n",
      "           1       0.99      0.99      0.99      1405\n",
      "           2       0.98      0.99      0.98      1253\n",
      "           3       0.99      0.98      0.99      1305\n",
      "           4       0.99      0.97      0.98      1222\n",
      "           5       0.99      0.98      0.99      1139\n",
      "           6       0.99      0.99      0.99      1241\n",
      "           7       0.98      0.98      0.98      1320\n",
      "           8       0.98      0.98      0.98      1219\n",
      "           9       0.97      0.98      0.97      1256\n",
      "\n",
      "    accuracy                           0.99     12600\n",
      "   macro avg       0.99      0.99      0.99     12600\n",
      "weighted avg       0.99      0.99      0.99     12600\n",
      "\n"
     ]
    }
   ],
   "source": [
    "# Score\n",
    "from sklearn.metrics import classification_report, confusion_matrix\n",
    "from sklearn.metrics import accuracy_score, precision_score, recall_score, f1_score\n",
    "# score\n",
    "print(classification_report(y_val, y_pred))"
   ]
  },
  {
   "cell_type": "code",
   "execution_count": 471,
   "id": "479a626c",
   "metadata": {},
   "outputs": [
    {
     "name": "stdout",
     "output_type": "stream",
     "text": [
      "totale 12600\n",
      "Found %d correct labels 98.54761904761905\n"
     ]
    }
   ],
   "source": [
    "correct = np.where(y_pred==y_val)[0]\n",
    "print(\"totale\",len(y_val))\n",
    "print(\"Found %d correct labels\",len(correct)/len(y_val)*100)"
   ]
  },
  {
   "cell_type": "code",
   "execution_count": 472,
   "id": "1e2f8c83",
   "metadata": {},
   "outputs": [],
   "source": [
    "import pickle\n",
    "import streamlit as st\n",
    "model.save(\"model.h5\")\n",
    "loaded_model = tf.keras.models.load_model(\"model.h5\")\n"
   ]
  },
  {
   "cell_type": "code",
   "execution_count": 46,
   "id": "61dfea3e",
   "metadata": {},
   "outputs": [],
   "source": [
    "!pip install -q pyngrok"
   ]
  },
  {
   "cell_type": "code",
   "execution_count": 47,
   "id": "7bcacb78",
   "metadata": {},
   "outputs": [],
   "source": [
    "!pip install -q streamlit"
   ]
  },
  {
   "cell_type": "code",
   "execution_count": 48,
   "id": "64488679",
   "metadata": {},
   "outputs": [],
   "source": [
    "!pip install -q streamlit_ace"
   ]
  },
  {
   "cell_type": "code",
   "execution_count": null,
   "id": "997eebc1",
   "metadata": {},
   "outputs": [],
   "source": [
    " #prediction = loaded_model.predict(test) "
   ]
  },
  {
   "cell_type": "code",
   "execution_count": 37,
   "id": "f738a2f2",
   "metadata": {},
   "outputs": [],
   "source": [
    "import os\n",
    "import numpy as np\n",
    "import cv2\n",
    "from tensorflow.keras.models import load_model\n",
    "import tensorflow as tf\n",
    "import streamlit as st\n",
    "from streamlit_drawable_canvas import st_canvas"
   ]
  },
  {
   "cell_type": "code",
   "execution_count": 38,
   "id": "6908d6d2",
   "metadata": {},
   "outputs": [],
   "source": [
    "#pip install opencv-python"
   ]
  },
  {
   "cell_type": "code",
   "execution_count": 39,
   "id": "718051cc",
   "metadata": {},
   "outputs": [],
   "source": [
    "#pip install streamlit-drawable-canvas"
   ]
  },
  {
   "cell_type": "code",
   "execution_count": 40,
   "id": "aff31e70",
   "metadata": {},
   "outputs": [
    {
     "name": "stdout",
     "output_type": "stream",
     "text": [
      "9\n",
      "0\n"
     ]
    }
   ],
   "source": [
    "# Récupérer les bonnes prédictions (sous forme One hot encoder)\n",
    "y_pred = model.predict(X_val).round()\n",
    "# Mettre au bon format pour pouvoir score\n",
    "y_pred = np.argmax(y_pred,axis=1)\n",
    "print(y_pred.max())\n",
    "print(y_pred.min())"
   ]
  },
  {
   "cell_type": "code",
   "execution_count": 474,
   "id": "dc6d13d1",
   "metadata": {},
   "outputs": [],
   "source": [
    "test=test.values.reshape(-1, 28, 28,1)\n",
    "test=test/xmax"
   ]
  },
  {
   "cell_type": "code",
   "execution_count": 42,
   "id": "7ae58ae7",
   "metadata": {},
   "outputs": [
    {
     "data": {
      "text/plain": [
       "1.0"
      ]
     },
     "execution_count": 42,
     "metadata": {},
     "output_type": "execute_result"
    }
   ],
   "source": [
    "val = model.predict(test)\n",
    "val[0].sum()\n"
   ]
  },
  {
   "cell_type": "code",
   "execution_count": 44,
   "id": "9c992a80",
   "metadata": {},
   "outputs": [
    {
     "data": {
      "image/png": "[encoded data removed]",
      "text/plain": [
       "<Figure size 720x576 with 15 Axes>"
      ]
     },
     "metadata": {
      "needs_background": "light"
     },
     "output_type": "display_data"
    }
   ],
   "source": [
    "import matplotlib.pyplot as plt \n",
    "fig,axes = plt.subplots(3,5,figsize=(10,8))\n",
    "for i,ax in enumerate(axes.flat):\n",
    "    ax.imshow(X_val[i])"
   ]
  },
  {
   "cell_type": "code",
   "execution_count": 475,
   "id": "e5b6a4da",
   "metadata": {
    "scrolled": true
   },
   "outputs": [
    {
     "name": "stdout",
     "output_type": "stream",
     "text": [
      "2\n",
      "0\n",
      "9\n"
     ]
    },
    {
     "data": {
      "image/png": "[encoded data removed]",
      "text/plain": [
       "<Figure size 720x576 with 3 Axes>"
      ]
     },
     "metadata": {
      "needs_background": "light"
     },
     "output_type": "display_data"
    }
   ],
   "source": [
    "y= model.predict(test)\n",
    "y_pred = np.argmax(y, axis=-1)\n",
    "fig,axes = plt.subplots(1,3,figsize=(10,8))\n",
    "for i,ax in enumerate(axes.flat):\n",
    "    ax.imshow(test[i])\n",
    "for i in range(0,3):\n",
    "    print(y_pred[i])"
   ]
  },
  {
   "cell_type": "code",
   "execution_count": 476,
   "id": "c1cfdb31",
   "metadata": {},
   "outputs": [
    {
     "data": {
      "image/png": "[encoded data removed]",
      "text/plain": [
       "<Figure size 720x576 with 15 Axes>"
      ]
     },
     "metadata": {
      "needs_background": "light"
     },
     "output_type": "display_data"
    }
   ],
   "source": [
    "y= model.predict(test)\n",
    "y_pred = np.argmax(y, axis=-1)\n",
    "fig,axes = plt.subplots(3,5,figsize=(10,8))\n",
    "for i,ax in enumerate(axes.flat):\n",
    "    ax.imshow(test[i])"
   ]
  },
  {
   "cell_type": "code",
   "execution_count": 477,
   "id": "56ae0774",
   "metadata": {},
   "outputs": [
    {
     "data": {
      "image/png": "[encoded data removed]",
      "text/plain": [
       "<Figure size 432x288 with 1 Axes>"
      ]
     },
     "metadata": {
      "needs_background": "light"
     },
     "output_type": "display_data"
    }
   ],
   "source": [
    "import random\n",
    "index = random.randrange(1000)\n",
    "plt.imshow(test[index], cmap='gray')\n",
    "plt.title('Label: %d' % y_pred[index])\n",
    "plt.show()"
   ]
  },
  {
   "cell_type": "code",
   "execution_count": 478,
   "id": "c6d0339b",
   "metadata": {},
   "outputs": [],
   "source": [
    "predictions = model.predict(test)\n",
    "y_pred = np.argmax(predictions, axis=1)"
   ]
  },
  {
   "cell_type": "code",
   "execution_count": 480,
   "id": "031ed92c",
   "metadata": {},
   "outputs": [
    {
     "data": {
      "image/png": "[encoded data removed]",
      "text/plain": [
       "<Figure size 432x288 with 1 Axes>"
      ]
     },
     "metadata": {
      "needs_background": "light"
     },
     "output_type": "display_data"
    }
   ],
   "source": [
    "index = random.randrange(10000)\n",
    "plt.title('Prediction: %d, label: %d' % (y_pred [index], y_val[index]))\n",
    "plt.imshow(test[index], cmap='gray')\n",
    "plt.show()"
   ]
  },
  {
   "cell_type": "code",
   "execution_count": null,
   "id": "50150c3a",
   "metadata": {},
   "outputs": [],
   "source": []
  },
  {
   "cell_type": "code",
   "execution_count": 306,
   "id": "c8ba9886",
   "metadata": {},
   "outputs": [
    {
     "data": {
      "image/png": "[encoded data removed]",
      "text/plain": [
       "<Figure size 432x288 with 1 Axes>"
      ]
     },
     "metadata": {
      "needs_background": "light"
     },
     "output_type": "display_data"
    },
    {
     "data": {
      "image/png": "[encoded data removed]",
      "text/plain": [
       "<Figure size 432x288 with 1 Axes>"
      ]
     },
     "metadata": {
      "needs_background": "light"
     },
     "output_type": "display_data"
    }
   ],
   "source": [
    "predictions = model.predict(X_val)\n",
    "y_pred = np.argmax(predictions, axis=1)\n",
    "\n",
    "for i in range(10):\n",
    "    index = random.randrange(10)\n",
    "    if y_pred[index] != y_val[index]:\n",
    "        break\n",
    "\n",
    "plt.imshow(X_val[index], cmap='gray')\n",
    "plt.title('Prediction: %d, label: %d' % (y_pred[index], y_val[index]))\n",
    "plt.show()\n",
    "\n",
    "plt.bar(range(10), predictions[index], tick_label=range(10))\n",
    "\n",
    "plt.title('Prediction values')\n",
    "plt.show()"
   ]
  },
  {
   "cell_type": "code",
   "execution_count": 489,
   "id": "cf048534",
   "metadata": {},
   "outputs": [
    {
     "data": {
      "image/png": "[encoded data removed]",
      "text/plain": [
       "<Figure size 432x288 with 1 Axes>"
      ]
     },
     "metadata": {
      "needs_background": "light"
     },
     "output_type": "display_data"
    },
    {
     "data": {
      "image/png": "[encoded data removed]",
      "text/plain": [
       "<Figure size 432x288 with 1 Axes>"
      ]
     },
     "metadata": {
      "needs_background": "light"
     },
     "output_type": "display_data"
    }
   ],
   "source": [
    "predictions = model.predict(X_val)\n",
    "y_pred = np.argmax(predictions, axis=1)\n",
    "\n",
    "for i in range(1000):\n",
    "    index = random.randrange(10000)\n",
    "    if y_pred[index] != y_val[index]:\n",
    "        break\n",
    "\n",
    "plt.imshow(X_val[index], cmap='gray')\n",
    "plt.title('Prediction: %d, label: %d' % (y_pred[index], y_val[index]))\n",
    "plt.show()\n",
    "\n",
    "plt.bar(range(10), predictions[index], tick_label=range(10))\n",
    "\n",
    "plt.title('Prediction values')\n",
    "plt.show()"
   ]
  },
  {
   "cell_type": "code",
   "execution_count": 433,
   "id": "67bfa5d9",
   "metadata": {},
   "outputs": [],
   "source": [
    "predictions = model.predict(X_val)\n",
    "y_pred = np.argmax(predictions, axis=1)"
   ]
  },
  {
   "cell_type": "code",
   "execution_count": 372,
   "id": "78d8a5d6",
   "metadata": {},
   "outputs": [
    {
     "data": {
      "image/png": "[encoded data removed]",
      "text/plain": [
       "<Figure size 432x288 with 1 Axes>"
      ]
     },
     "metadata": {
      "needs_background": "light"
     },
     "output_type": "display_data"
    },
    {
     "data": {
      "image/png": "[encoded data removed]",
      "text/plain": [
       "<Figure size 432x288 with 1 Axes>"
      ]
     },
     "metadata": {
      "needs_background": "light"
     },
     "output_type": "display_data"
    }
   ],
   "source": [
    "\n",
    "\n",
    "for i in range(1000):\n",
    "    index = random.randrange(1000)\n",
    "    if y_pred[index] != y_val[index]:\n",
    "        break\n",
    "\n",
    "plt.imshow(X_val[index], cmap='gray')\n",
    "plt.title('Prediction: %d, label: %d' % (y_pred[index], y_val[index]))\n",
    "plt.show()\n",
    "\n",
    "plt.bar(range(10), predictions[index], tick_label=range(10))\n",
    "\n",
    "plt.title('Prediction values')\n",
    "plt.show()"
   ]
  },
  {
   "cell_type": "code",
   "execution_count": 492,
   "id": "4ac13b19",
   "metadata": {},
   "outputs": [
    {
     "name": "stdout",
     "output_type": "stream",
     "text": [
      "la probabilté de  0 1.209867e-12\n",
      "la probabilté de  1 1.8464903e-10\n",
      "la probabilté de  2 3.872256e-11\n",
      "la probabilté de  3 1.9296924e-05\n",
      "la probabilté de  4 1.4261947e-12\n",
      "la probabilté de  5 0.9999305\n",
      "la probabilté de  6 8.464845e-13\n",
      "la probabilté de  7 1.4809308e-11\n",
      "la probabilté de  8 3.6903868e-05\n",
      "la probabilté de  9 1.3312572e-05\n",
      "la valeur prédictée est 5\n"
     ]
    },
    {
     "data": {
      "image/png": "[encoded data removed]",
      "text/plain": [
       "<Figure size 432x288 with 1 Axes>"
      ]
     },
     "metadata": {
      "needs_background": "light"
     },
     "output_type": "display_data"
    }
   ],
   "source": [
    "for i in range(0,10):\n",
    "    b=predictions[0][i]\n",
    "    print(\"la probabilté de \",i,b)\n",
    "    plt.imshow(X_val[i], cmap='gray')\n",
    "    \n",
    "    \n",
    "print(\"la valeur prédictée est\",np.argmax(predictions[0]))\n",
    "    \n"
   ]
  },
  {
   "cell_type": "code",
   "execution_count": null,
   "id": "7b1be732",
   "metadata": {},
   "outputs": [],
   "source": []
  },
  {
   "cell_type": "raw",
   "id": "d40d09a8",
   "metadata": {},
   "source": [
    "#!pip install gradio\n",
    "import gradio as gr\n",
    "def predict_image(img):\n",
    "    img_3d=img.reshape(-1,28,28)\n",
    "    im_resize=img_3d/255.0\n",
    "    prediction=model.predict(im_resize)\n",
    "    pred=np.argmax(prediction)\n",
    "    return pred\n",
    "iface = gr.Interface(predict_image, inputs=\"sketchpad\", outputs=\"label\")\n",
    "iface.launch(debug='True')"
   ]
  },
  {
   "cell_type": "code",
   "execution_count": null,
   "id": "9979889d",
   "metadata": {},
   "outputs": [],
   "source": []
  },
  {
   "cell_type": "code",
   "execution_count": null,
   "id": "4f80062e",
   "metadata": {},
   "outputs": [],
   "source": []
  },
  {
   "cell_type": "code",
   "execution_count": null,
   "id": "6ba64204",
   "metadata": {},
   "outputs": [],
   "source": []
  }
 ],
 "metadata": {
  "kernelspec": {
   "display_name": "Python 3",
   "language": "python",
   "name": "python3"
  },
  "language_info": {
   "codemirror_mode": {
    "name": "ipython",
    "version": 3
   },
   "file_extension": ".py",
   "mimetype": "text/x-python",
   "name": "python",
   "nbconvert_exporter": "python",
   "pygments_lexer": "ipython3",
   "version": "3.8.8"
  }
 },
 "nbformat": 4,
 "nbformat_minor": 5
}
